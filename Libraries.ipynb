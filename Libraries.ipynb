{
 "cells": [
  {
   "cell_type": "markdown",
   "metadata": {},
   "source": [
    "### Collections"
   ]
  },
  {
   "cell_type": "code",
   "execution_count": 3,
   "metadata": {},
   "outputs": [
    {
     "name": "stdout",
     "output_type": "stream",
     "text": [
      "Counter({'l': 3, 'o': 2, 'h': 1, 'e': 1, 'w': 1, 'r': 1, 'd': 1})\n"
     ]
    }
   ],
   "source": [
    "import collections\n",
    "\n",
    "c = collections.Counter('helloworld')\n",
    "print(c)"
   ]
  },
  {
   "cell_type": "code",
   "execution_count": 4,
   "metadata": {},
   "outputs": [
    {
     "data": {
      "text/plain": [
       "[('l', 3), ('o', 2), ('h', 1)]"
      ]
     },
     "execution_count": 4,
     "metadata": {},
     "output_type": "execute_result"
    }
   ],
   "source": [
    " c.most_common(3)"
   ]
  },
  {
   "cell_type": "markdown",
   "metadata": {},
   "source": [
    "### Itertools"
   ]
  },
  {
   "cell_type": "code",
   "execution_count": 6,
   "metadata": {},
   "outputs": [
    {
     "name": "stdout",
     "output_type": "stream",
     "text": [
      "0 ('A', 'B', 'C', 'D')\n",
      "1 ('A', 'B', 'D', 'C')\n",
      "2 ('A', 'C', 'B', 'D')\n",
      "3 ('A', 'C', 'D', 'B')\n",
      "4 ('A', 'D', 'B', 'C')\n",
      "5 ('A', 'D', 'C', 'B')\n",
      "6 ('B', 'A', 'C', 'D')\n",
      "7 ('B', 'A', 'D', 'C')\n",
      "8 ('B', 'C', 'A', 'D')\n",
      "9 ('B', 'C', 'D', 'A')\n",
      "10 ('B', 'D', 'A', 'C')\n",
      "11 ('B', 'D', 'C', 'A')\n",
      "12 ('C', 'A', 'B', 'D')\n",
      "13 ('C', 'A', 'D', 'B')\n",
      "14 ('C', 'B', 'A', 'D')\n",
      "15 ('C', 'B', 'D', 'A')\n",
      "16 ('C', 'D', 'A', 'B')\n",
      "17 ('C', 'D', 'B', 'A')\n",
      "18 ('D', 'A', 'B', 'C')\n",
      "19 ('D', 'A', 'C', 'B')\n",
      "20 ('D', 'B', 'A', 'C')\n",
      "21 ('D', 'B', 'C', 'A')\n",
      "22 ('D', 'C', 'A', 'B')\n",
      "23 ('D', 'C', 'B', 'A')\n"
     ]
    }
   ],
   "source": [
    "import itertools\n",
    "\n",
    "for i, v in enumerate(itertools.permutations('ABCD')):\n",
    "    print(i, v)"
   ]
  },
  {
   "cell_type": "markdown",
   "metadata": {},
   "source": [
    "### You can use Python's built-in \"dis\""
   ]
  },
  {
   "cell_type": "code",
   "execution_count": 1,
   "metadata": {},
   "outputs": [
    {
     "name": "stdout",
     "output_type": "stream",
     "text": [
      "  4           0 LOAD_CONST               1 ('Hello, ')\n",
      "              2 LOAD_FAST                0 (name)\n",
      "              4 BINARY_ADD\n",
      "              6 LOAD_CONST               2 ('!')\n",
      "              8 BINARY_ADD\n",
      "             10 RETURN_VALUE\n"
     ]
    }
   ],
   "source": [
    "import dis\n",
    "# module to disassemble functions and\n",
    "# inspect their CPython VM bytecode:\n",
    "\n",
    "def greet(name):\n",
    "    return 'Hello, ' + name + '!'\n",
    "\n",
    "dis.dis(greet)"
   ]
  },
  {
   "cell_type": "markdown",
   "metadata": {},
   "source": [
    "### \"issubclass()\" built-in:"
   ]
  },
  {
   "cell_type": "code",
   "execution_count": 3,
   "metadata": {},
   "outputs": [
    {
     "name": "stdout",
     "output_type": "stream",
     "text": [
      "Inside BaseClass\n",
      "Inside SubClass\n"
     ]
    }
   ],
   "source": [
    "class BaseClass:\n",
    "    print(\"Inside BaseClass\")\n",
    "\n",
    "class SubClass(BaseClass):\n",
    "    print(\"Inside SubClass\")"
   ]
  },
  {
   "cell_type": "code",
   "execution_count": 4,
   "metadata": {},
   "outputs": [
    {
     "data": {
      "text/plain": [
       "True"
      ]
     },
     "execution_count": 4,
     "metadata": {},
     "output_type": "execute_result"
    }
   ],
   "source": [
    "issubclass(SubClass, BaseClass)"
   ]
  },
  {
   "cell_type": "code",
   "execution_count": 5,
   "metadata": {},
   "outputs": [
    {
     "data": {
      "text/plain": [
       "False"
      ]
     },
     "execution_count": 5,
     "metadata": {},
     "output_type": "execute_result"
    }
   ],
   "source": [
    "issubclass(BaseClass, SubClass)"
   ]
  },
  {
   "cell_type": "code",
   "execution_count": 7,
   "metadata": {},
   "outputs": [
    {
     "data": {
      "text/plain": [
       "True"
      ]
     },
     "execution_count": 7,
     "metadata": {},
     "output_type": "execute_result"
    }
   ],
   "source": [
    "issubclass(SubClass, object)"
   ]
  },
  {
   "cell_type": "code",
   "execution_count": 8,
   "metadata": {},
   "outputs": [
    {
     "data": {
      "text/plain": [
       "True"
      ]
     },
     "execution_count": 8,
     "metadata": {},
     "output_type": "execute_result"
    }
   ],
   "source": [
    "issubclass(BaseClass, object)"
   ]
  },
  {
   "cell_type": "code",
   "execution_count": 11,
   "metadata": {},
   "outputs": [
    {
     "data": {
      "text/plain": [
       "{'__name__': '__main__',\n",
       " '__doc__': 'Automatically created module for IPython interactive environment',\n",
       " '__package__': None,\n",
       " '__loader__': None,\n",
       " '__spec__': None,\n",
       " '__builtin__': <module 'builtins' (built-in)>,\n",
       " '__builtins__': <module 'builtins' (built-in)>,\n",
       " '_ih': ['',\n",
       "  \"import dis\\n\\ndef greet(name):\\n    return 'Hello, ' + name + '!'\\n\\ndis.dis(greet)\",\n",
       "  'class BaseClass:\\n    print(\"Inside BaseClass\")\\n\\nclass SubClass(BaseClass)::\\n    print(\"Inside SubClass\")',\n",
       "  'class BaseClass:\\n    print(\"Inside BaseClass\")\\n\\nclass SubClass(BaseClass):\\n    print(\"Inside SubClass\")',\n",
       "  'issubclass(SubClass, BaseClass)',\n",
       "  'issubclass(BaseClass, SubClass)',\n",
       "  'issubclass(SubClass)',\n",
       "  'issubclass(SubClass, object)',\n",
       "  'issubclass(BaseClass, object)',\n",
       "  'globals()',\n",
       "  'locals()',\n",
       "  'globals()'],\n",
       " '_oh': {4: True, 5: False, 7: True, 8: True, 9: {...}, 10: {...}},\n",
       " '_dh': ['C:\\\\Users\\\\ezhil.moorthy\\\\Notebooks\\\\PyTricks'],\n",
       " 'In': ['',\n",
       "  \"import dis\\n\\ndef greet(name):\\n    return 'Hello, ' + name + '!'\\n\\ndis.dis(greet)\",\n",
       "  'class BaseClass:\\n    print(\"Inside BaseClass\")\\n\\nclass SubClass(BaseClass)::\\n    print(\"Inside SubClass\")',\n",
       "  'class BaseClass:\\n    print(\"Inside BaseClass\")\\n\\nclass SubClass(BaseClass):\\n    print(\"Inside SubClass\")',\n",
       "  'issubclass(SubClass, BaseClass)',\n",
       "  'issubclass(BaseClass, SubClass)',\n",
       "  'issubclass(SubClass)',\n",
       "  'issubclass(SubClass, object)',\n",
       "  'issubclass(BaseClass, object)',\n",
       "  'globals()',\n",
       "  'locals()',\n",
       "  'globals()'],\n",
       " 'Out': {4: True, 5: False, 7: True, 8: True, 9: {...}, 10: {...}},\n",
       " 'get_ipython': <bound method InteractiveShell.get_ipython of <ipykernel.zmqshell.ZMQInteractiveShell object at 0x000002C4644C5588>>,\n",
       " 'exit': <IPython.core.autocall.ZMQExitAutocall at 0x2c464e18748>,\n",
       " 'quit': <IPython.core.autocall.ZMQExitAutocall at 0x2c464e18748>,\n",
       " '_': {...},\n",
       " '__': {...},\n",
       " '___': True,\n",
       " '_i': 'locals()',\n",
       " '_ii': 'globals()',\n",
       " '_iii': 'issubclass(BaseClass, object)',\n",
       " '_i1': \"import dis\\n\\ndef greet(name):\\n    return 'Hello, ' + name + '!'\\n\\ndis.dis(greet)\",\n",
       " 'dis': <module 'dis' from 'C:\\\\ProgramData\\\\Anaconda3\\\\lib\\\\dis.py'>,\n",
       " 'greet': <function __main__.greet(name)>,\n",
       " '_i2': 'class BaseClass:\\n    print(\"Inside BaseClass\")\\n\\nclass SubClass(BaseClass)::\\n    print(\"Inside SubClass\")',\n",
       " '_i3': 'class BaseClass:\\n    print(\"Inside BaseClass\")\\n\\nclass SubClass(BaseClass):\\n    print(\"Inside SubClass\")',\n",
       " 'BaseClass': __main__.BaseClass,\n",
       " 'SubClass': __main__.SubClass,\n",
       " '_i4': 'issubclass(SubClass, BaseClass)',\n",
       " '_4': True,\n",
       " '_i5': 'issubclass(BaseClass, SubClass)',\n",
       " '_5': False,\n",
       " '_i6': 'issubclass(SubClass)',\n",
       " '_i7': 'issubclass(SubClass, object)',\n",
       " '_7': True,\n",
       " '_i8': 'issubclass(BaseClass, object)',\n",
       " '_8': True,\n",
       " '_i9': 'globals()',\n",
       " '_9': {...},\n",
       " '_i10': 'locals()',\n",
       " '_10': {...},\n",
       " '_i11': 'globals()'}"
      ]
     },
     "execution_count": 11,
     "metadata": {},
     "output_type": "execute_result"
    }
   ],
   "source": [
    "globals()"
   ]
  },
  {
   "cell_type": "markdown",
   "metadata": {},
   "source": [
    "### Contextlib"
   ]
  },
  {
   "cell_type": "code",
   "execution_count": 18,
   "metadata": {},
   "outputs": [
    {
     "name": "stdout",
     "output_type": "stream",
     "text": [
      "FileNotFoundError suppressed\n",
      "FileNotFoundError suppressed\n"
     ]
    },
    {
     "ename": "Exception",
     "evalue": "somefile.tmp not found",
     "output_type": "error",
     "traceback": [
      "\u001b[1;31m---------------------------------------------------------------------------\u001b[0m",
      "\u001b[1;31mFileNotFoundError\u001b[0m                         Traceback (most recent call last)",
      "\u001b[1;32m<ipython-input-18-dc3ef46761f4>\u001b[0m in \u001b[0;36m<module>\u001b[1;34m\u001b[0m\n\u001b[0;32m     20\u001b[0m \u001b[1;32mtry\u001b[0m\u001b[1;33m:\u001b[0m\u001b[1;33m\u001b[0m\u001b[1;33m\u001b[0m\u001b[0m\n\u001b[1;32m---> 21\u001b[1;33m     \u001b[0mos\u001b[0m\u001b[1;33m.\u001b[0m\u001b[0mremove\u001b[0m\u001b[1;33m(\u001b[0m\u001b[1;34m'somefile.tmp'\u001b[0m\u001b[1;33m)\u001b[0m\u001b[1;33m\u001b[0m\u001b[1;33m\u001b[0m\u001b[0m\n\u001b[0m\u001b[0;32m     22\u001b[0m \u001b[1;32mexcept\u001b[0m \u001b[0mFileNotFoundError\u001b[0m\u001b[1;33m:\u001b[0m\u001b[1;33m\u001b[0m\u001b[1;33m\u001b[0m\u001b[0m\n",
      "\u001b[1;31mFileNotFoundError\u001b[0m: [WinError 2] The system cannot find the file specified: 'somefile.tmp'",
      "\nDuring handling of the above exception, another exception occurred:\n",
      "\u001b[1;31mException\u001b[0m                                 Traceback (most recent call last)",
      "\u001b[1;32m<ipython-input-18-dc3ef46761f4>\u001b[0m in \u001b[0;36m<module>\u001b[1;34m\u001b[0m\n\u001b[0;32m     21\u001b[0m     \u001b[0mos\u001b[0m\u001b[1;33m.\u001b[0m\u001b[0mremove\u001b[0m\u001b[1;33m(\u001b[0m\u001b[1;34m'somefile.tmp'\u001b[0m\u001b[1;33m)\u001b[0m\u001b[1;33m\u001b[0m\u001b[1;33m\u001b[0m\u001b[0m\n\u001b[0;32m     22\u001b[0m \u001b[1;32mexcept\u001b[0m \u001b[0mFileNotFoundError\u001b[0m\u001b[1;33m:\u001b[0m\u001b[1;33m\u001b[0m\u001b[1;33m\u001b[0m\u001b[0m\n\u001b[1;32m---> 23\u001b[1;33m     \u001b[1;32mraise\u001b[0m \u001b[0mException\u001b[0m\u001b[1;33m(\u001b[0m\u001b[1;34m'somefile.tmp not found'\u001b[0m\u001b[1;33m)\u001b[0m\u001b[1;33m\u001b[0m\u001b[1;33m\u001b[0m\u001b[0m\n\u001b[0m\u001b[0;32m     24\u001b[0m \u001b[1;33m\u001b[0m\u001b[0m\n",
      "\u001b[1;31mException\u001b[0m: somefile.tmp not found"
     ]
    }
   ],
   "source": [
    "# In Python 3.4+ you can use\n",
    "# contextlib.suppress() to selectively\n",
    "# ignore specific exceptions:\n",
    "\n",
    "import os\n",
    "import contextlib\n",
    "\n",
    "with contextlib.suppress(FileNotFoundError):\n",
    "    os.remove('somefile.tmp')\n",
    "\n",
    "print('FileNotFoundError suppressed')\n",
    "# This is equivalent to:\n",
    "\n",
    "try:\n",
    "    os.remove('somefile.tmp')\n",
    "except FileNotFoundError:\n",
    "    pass\n",
    "\n",
    "print('FileNotFoundError suppressed')\n",
    "\n",
    "try:\n",
    "    os.remove('somefile.tmp')\n",
    "except FileNotFoundError:\n",
    "    raise Exception('somefile.tmp not found')\n",
    "\n"
   ]
  },
  {
   "cell_type": "code",
   "execution_count": null,
   "metadata": {},
   "outputs": [],
   "source": []
  }
 ],
 "metadata": {
  "kernelspec": {
   "display_name": "Python 3",
   "language": "python",
   "name": "python3"
  },
  "language_info": {
   "codemirror_mode": {
    "name": "ipython",
    "version": 3
   },
   "file_extension": ".py",
   "mimetype": "text/x-python",
   "name": "python",
   "nbconvert_exporter": "python",
   "pygments_lexer": "ipython3",
   "version": "3.7.3"
  }
 },
 "nbformat": 4,
 "nbformat_minor": 2
}
